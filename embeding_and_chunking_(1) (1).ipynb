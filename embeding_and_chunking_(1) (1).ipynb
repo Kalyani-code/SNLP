{
  "nbformat": 4,
  "nbformat_minor": 0,
  "metadata": {
    "kernelspec": {
      "display_name": "Python 3",
      "language": "python",
      "name": "python3"
    },
    "language_info": {
      "codemirror_mode": {
        "name": "ipython",
        "version": 3
      },
      "file_extension": ".py",
      "mimetype": "text/x-python",
      "name": "python",
      "nbconvert_exporter": "python",
      "pygments_lexer": "ipython3",
      "version": "3.7.3"
    },
    "colab": {
      "name": "embeding_and_chunking (1).ipynb",
      "provenance": [],
      "collapsed_sections": []
    }
  },
  "cells": [
    {
      "cell_type": "markdown",
      "metadata": {
        "id": "E9NuFUNVyqJj",
        "colab_type": "text"
      },
      "source": [
        "# Embeding"
      ]
    },
    {
      "cell_type": "code",
      "metadata": {
        "id": "-dN9FjAxyqJp",
        "colab_type": "code",
        "colab": {
          "base_uri": "https://localhost:8080/",
          "height": 156
        },
        "outputId": "ebc6dc94-eb8b-40e1-a085-53661b2931c0"
      },
      "source": [
        "\n",
        "'''gensim provides a nice Python implementation of Word2Vec that works perfectly with NLTK corpora.\n",
        "The model takes a list of sentences, and each sentence is expected to be a list of words. \n",
        "This is exactly what is returned by the sents() method of NLTK corpus readers. '''\n",
        "\n",
        "import nltk\n",
        "nltk.download('movie_reviews')\n",
        "import nltk\n",
        "nltk.download('treebank')\n",
        "import nltk\n",
        "nltk.download('brown')\n",
        "import nltk\n",
        "nltk.download('punkt') \n",
        "from gensim.models import Word2Vec\n",
        "from nltk.corpus import brown, movie_reviews, treebank\n",
        "b = Word2Vec(brown.sents())\n",
        "mr = Word2Vec(movie_reviews.sents())\n",
        "t = Word2Vec(treebank.sents())"
      ],
      "execution_count": 1,
      "outputs": [
        {
          "output_type": "stream",
          "text": [
            "[nltk_data] Downloading package movie_reviews to /root/nltk_data...\n",
            "[nltk_data]   Unzipping corpora/movie_reviews.zip.\n",
            "[nltk_data] Downloading package treebank to /root/nltk_data...\n",
            "[nltk_data]   Unzipping corpora/treebank.zip.\n",
            "[nltk_data] Downloading package brown to /root/nltk_data...\n",
            "[nltk_data]   Unzipping corpora/brown.zip.\n",
            "[nltk_data] Downloading package punkt to /root/nltk_data...\n",
            "[nltk_data]   Unzipping tokenizers/punkt.zip.\n"
          ],
          "name": "stdout"
        }
      ]
    },
    {
      "cell_type": "code",
      "metadata": {
        "id": "jz94W_QlyqJ7",
        "colab_type": "code",
        "colab": {
          "base_uri": "https://localhost:8080/",
          "height": 193
        },
        "outputId": "9ca7ccea-3505-4e70-8279-d8729881a623"
      },
      "source": [
        "b.most_similar('money', topn=5)\n"
      ],
      "execution_count": 2,
      "outputs": [
        {
          "output_type": "stream",
          "text": [
            "/usr/local/lib/python3.6/dist-packages/ipykernel_launcher.py:1: DeprecationWarning: Call to deprecated `most_similar` (Method will be removed in 4.0.0, use self.wv.most_similar() instead).\n",
            "  \"\"\"Entry point for launching an IPython kernel.\n",
            "/usr/local/lib/python3.6/dist-packages/gensim/matutils.py:737: FutureWarning: Conversion of the second argument of issubdtype from `int` to `np.signedinteger` is deprecated. In future, it will be treated as `np.int64 == np.dtype(int).type`.\n",
            "  if np.issubdtype(vec.dtype, np.int):\n"
          ],
          "name": "stderr"
        },
        {
          "output_type": "execute_result",
          "data": {
            "text/plain": [
              "[('care', 0.9209950566291809),\n",
              " ('job', 0.9133939743041992),\n",
              " ('trouble', 0.9005436897277832),\n",
              " ('work', 0.8833010196685791),\n",
              " ('getting', 0.8823734521865845)]"
            ]
          },
          "metadata": {
            "tags": []
          },
          "execution_count": 2
        }
      ]
    },
    {
      "cell_type": "code",
      "metadata": {
        "id": "uvlVswymyqKM",
        "colab_type": "code",
        "colab": {
          "base_uri": "https://localhost:8080/",
          "height": 193
        },
        "outputId": "df4de9d6-016c-4286-f640-78093b640799"
      },
      "source": [
        "mr.most_similar('money', topn=5)\n"
      ],
      "execution_count": 3,
      "outputs": [
        {
          "output_type": "stream",
          "text": [
            "/usr/local/lib/python3.6/dist-packages/ipykernel_launcher.py:1: DeprecationWarning: Call to deprecated `most_similar` (Method will be removed in 4.0.0, use self.wv.most_similar() instead).\n",
            "  \"\"\"Entry point for launching an IPython kernel.\n",
            "/usr/local/lib/python3.6/dist-packages/gensim/matutils.py:737: FutureWarning: Conversion of the second argument of issubdtype from `int` to `np.signedinteger` is deprecated. In future, it will be treated as `np.int64 == np.dtype(int).type`.\n",
            "  if np.issubdtype(vec.dtype, np.int):\n"
          ],
          "name": "stderr"
        },
        {
          "output_type": "execute_result",
          "data": {
            "text/plain": [
              "[('him', 0.7755083441734314),\n",
              " ('attention', 0.7572636604309082),\n",
              " ('chance', 0.7456620335578918),\n",
              " ('pay', 0.745286226272583),\n",
              " ('eyes', 0.7397005558013916)]"
            ]
          },
          "metadata": {
            "tags": []
          },
          "execution_count": 3
        }
      ]
    },
    {
      "cell_type": "code",
      "metadata": {
        "id": "pcnOCJBQyqKV",
        "colab_type": "code",
        "colab": {
          "base_uri": "https://localhost:8080/",
          "height": 193
        },
        "outputId": "f71b7168-ab25-4226-b691-2b617d522c4d"
      },
      "source": [
        "t.most_similar('money', topn=5)\n"
      ],
      "execution_count": 4,
      "outputs": [
        {
          "output_type": "stream",
          "text": [
            "/usr/local/lib/python3.6/dist-packages/ipykernel_launcher.py:1: DeprecationWarning: Call to deprecated `most_similar` (Method will be removed in 4.0.0, use self.wv.most_similar() instead).\n",
            "  \"\"\"Entry point for launching an IPython kernel.\n",
            "/usr/local/lib/python3.6/dist-packages/gensim/matutils.py:737: FutureWarning: Conversion of the second argument of issubdtype from `int` to `np.signedinteger` is deprecated. In future, it will be treated as `np.int64 == np.dtype(int).type`.\n",
            "  if np.issubdtype(vec.dtype, np.int):\n"
          ],
          "name": "stderr"
        },
        {
          "output_type": "execute_result",
          "data": {
            "text/plain": [
              "[('new', 0.999888002872467),\n",
              " ('when', 0.9998666048049927),\n",
              " ('under', 0.9998633861541748),\n",
              " ('only', 0.9998582601547241),\n",
              " ('into', 0.9998582005500793)]"
            ]
          },
          "metadata": {
            "tags": []
          },
          "execution_count": 4
        }
      ]
    }
  ]
}